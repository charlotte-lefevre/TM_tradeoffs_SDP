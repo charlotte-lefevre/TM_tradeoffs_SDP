{
 "cells": [
  {
   "cell_type": "markdown",
   "id": "racial-groove",
   "metadata": {},
   "source": [
    "## Description\n",
    "Ce notebook permet de résoudre l'ISD avec une instanciation concrète. Les différentes justifications derrière les instanciations sont trouvables dans le notebook \"implem\"\n",
    "\n",
    "## Instanciation, Rappels\n",
    "\n",
    "On a n = 560\n",
    "k = 379\n",
    "l = 34 (Re = ancien Re)\n",
    "On a Besoin de 890 solutions\n",
    "On en vise 804 a chaque itération\n",
    "On a des listes de cardinal au maximum 94"
   ]
  },
  {
   "cell_type": "code",
   "execution_count": 12,
   "id": "interracial-cincinnati",
   "metadata": {},
   "outputs": [],
   "source": [
    "F3 = Zmod(3)\n",
    "\n",
    "n = 560\n",
    "k = 379\n",
    "l = 34\n",
    "W =0.948366\n",
    "\n",
    "load('dissections.sage')\n",
    "load('utils.sage')"
   ]
  },
  {
   "cell_type": "markdown",
   "id": "spectacular-surgeon",
   "metadata": {},
   "source": [
    "## Construction d'une partity check matrix aléatoire  et d'un syndrome\n",
    "Elle n'est pas sous la bonne forme, il va falloir utiliser l'élimination Gaussienne"
   ]
  },
  {
   "cell_type": "markdown",
   "id": "subsequent-preservation",
   "metadata": {},
   "source": [
    "On sait que \n",
    "$H  =\\begin{pmatrix}\n",
    "   H_{11} & H_{12}\\\\\\\n",
    "H_{21} & H_{22}\n",
    " \\end{pmatrix}$\n",
    " \n",
    " Avec $H_11$ carré de taille n-k-l, $H_12$ ayant k+l colones, et $H_21$ ainsi que $H_22$ ont l lignes\n",
    " \n",
    " # A executer"
   ]
  },
  {
   "cell_type": "code",
   "execution_count": 2,
   "id": "prime-saint",
   "metadata": {},
   "outputs": [
    {
     "data": {
      "text/plain": [
       "\"# Algorithl is randomized : it returns a different solution at each step (though the number of solutions is limited)\\ndef build_H(H, s):\\n    repeat = True\\n    while (repeat):\\n        H = H_original\\n        # On va chercher la bonne permutation pi qui fait que la sous matrice H11 de pi * H soit inversible  \\n        perm  = Permutations(n).random_element()\\n        H.permute_columns(perm)\\n        H11 = H[0:n-k-l, 0:n-k-l]\\n        while(not(H11.is_invertible())):\\n            perm = Permutations(n).random_element()\\n            H.permute_columns(perm)\\n            H11 = H[0:n-k-l, 0:n-k-l]\\n\\n        #Ainsi a ce stade on va traviller non pas sur H, mais plutot sur H * Id.permute_columns(perm), disons H *pi\\n        # Donc si on a e tel que H * pi * e = s\\n        # Alors la solution qu'on cherche est pi * e et non e\\n        # Mais de toute facon on va encore transformer H\\n\\n        # On va multiplier H * pi à gauche par S et résoudre le problème sur S * H * pi\\n        # S doit etre ainsi :\\n        # H11-1 | 0\\n        # H12^t | -H12^t H11 H21^t(H21H21^t)-1  notés A et B dans le code\\n        # Le H11-1 et 0 est lié au fait qu'on veuille l'identité sur n-k-l\\n        # Les deux autres valeurs d'en dessous sont liées au fait qu'on veuille avoir zéro en dessous de l'identité\\n        # Mais remarquons qu'on avait qu'une seule equation avec deux inconnues, donc peut etre qu'il y a d'autres choix plus judicieux ?\\n\\n        H21 = H[n-k-l:n-k,0:n-k-l]\\n        H12 = H[0:n-k-l,n-k-l:n]\\n        H22 = H[n-k-l:n-k,n-k-l:n]\\n        H11_invert = ~H11\\n        B = H22.transpose()\\n        A = -B*H21*H11_invert\\n\\n\\n        #A.augment(B) # partie du bas\\n        #(-H11_invert).augment(matrix(F3, nrows = n-k-l, ncols = k+l)) # partie du haut\\n\\n\\n        top_part = (H11_invert).augment(matrix(F3, nrows = n-k-l, ncols = l))\\n        bottom_part = A.augment(B)\\n        S = top_part.stack(bottom_part)\\n        #S = ((-H11_invert).augment(matrix(F3, nrows = n-k-l, ncols = k+l))).stack(H11_invert.augment(A))\\n\\n        H = S*H\\n        \\n        print(S.nrows())\\n        print(S.ncols())\\n\\n        # Maintenant on peut résoudre \\n        # H_new e = s_new\\n        # <=> S H pi e = s_new\\n        # <=> H pi e = S-1 s_new\\n        # Ainsi etant donné s et notre problème, on veut S-1 s_new = s\\n        # Donc s_new = S s\\n        # On a donc tous les elements pour résoudre notre probleme\\n\\n        s = S * s\\n\\n        repeat = not(rank(H22) == l)\\n\\n        return(H, s, pi)\""
      ]
     },
     "execution_count": 2,
     "metadata": {},
     "output_type": "execute_result"
    }
   ],
   "source": [
    "\"\"\"# Algorithl is randomized : it returns a different solution at each step (though the number of solutions is limited)\n",
    "def build_H(H, s):\n",
    "    repeat = True\n",
    "    while (repeat):\n",
    "        H = H_original\n",
    "        # On va chercher la bonne permutation pi qui fait que la sous matrice H11 de pi * H soit inversible  \n",
    "        perm  = Permutations(n).random_element()\n",
    "        H.permute_columns(perm)\n",
    "        H11 = H[0:n-k-l, 0:n-k-l]\n",
    "        while(not(H11.is_invertible())):\n",
    "            perm = Permutations(n).random_element()\n",
    "            H.permute_columns(perm)\n",
    "            H11 = H[0:n-k-l, 0:n-k-l]\n",
    "\n",
    "        #Ainsi a ce stade on va traviller non pas sur H, mais plutot sur H * Id.permute_columns(perm), disons H *pi\n",
    "        # Donc si on a e tel que H * pi * e = s\n",
    "        # Alors la solution qu'on cherche est pi * e et non e\n",
    "        # Mais de toute facon on va encore transformer H\n",
    "\n",
    "        # On va multiplier H * pi à gauche par S et résoudre le problème sur S * H * pi\n",
    "        # S doit etre ainsi :\n",
    "        # H11-1 | 0\n",
    "        # H12^t | -H12^t H11 H21^t(H21H21^t)-1  notés A et B dans le code\n",
    "        # Le H11-1 et 0 est lié au fait qu'on veuille l'identité sur n-k-l\n",
    "        # Les deux autres valeurs d'en dessous sont liées au fait qu'on veuille avoir zéro en dessous de l'identité\n",
    "        # Mais remarquons qu'on avait qu'une seule equation avec deux inconnues, donc peut etre qu'il y a d'autres choix plus judicieux ?\n",
    "\n",
    "        H21 = H[n-k-l:n-k,0:n-k-l]\n",
    "        H12 = H[0:n-k-l,n-k-l:n]\n",
    "        H22 = H[n-k-l:n-k,n-k-l:n]\n",
    "        H11_invert = ~H11\n",
    "        B = H22.transpose()\n",
    "        A = -B*H21*H11_invert\n",
    "\n",
    "\n",
    "        #A.augment(B) # partie du bas\n",
    "        #(-H11_invert).augment(matrix(F3, nrows = n-k-l, ncols = k+l)) # partie du haut\n",
    "\n",
    "\n",
    "        top_part = (H11_invert).augment(matrix(F3, nrows = n-k-l, ncols = l))\n",
    "        bottom_part = A.augment(B)\n",
    "        S = top_part.stack(bottom_part)\n",
    "        #S = ((-H11_invert).augment(matrix(F3, nrows = n-k-l, ncols = k+l))).stack(H11_invert.augment(A))\n",
    "\n",
    "        H = S*H\n",
    "        \n",
    "        print(S.nrows())\n",
    "        print(S.ncols())\n",
    "\n",
    "        # Maintenant on peut résoudre \n",
    "        # H_new e = s_new\n",
    "        # <=> S H pi e = s_new\n",
    "        # <=> H pi e = S-1 s_new\n",
    "        # Ainsi etant donné s et notre problème, on veut S-1 s_new = s\n",
    "        # Donc s_new = S s\n",
    "        # On a donc tous les elements pour résoudre notre probleme\n",
    "\n",
    "        s = S * s\n",
    "\n",
    "        repeat = not(rank(H22) == l)\n",
    "\n",
    "        return(H, s, pi)\"\"\""
   ]
  },
  {
   "cell_type": "code",
   "execution_count": 3,
   "id": "enclosed-spotlight",
   "metadata": {},
   "outputs": [],
   "source": [
    "# Algorithl is randomized : it returns a different solution at each step (though the number of solutions is limited)\n",
    "def build_H(H, s):\n",
    "    repeat = True\n",
    "    H_original = copy(H)\n",
    "    while (repeat):\n",
    "        H = copy(H_original)\n",
    "        # On va chercher la bonne permutation pi qui fait que la sous matrice H11 de pi * H soit inversible  \n",
    "        perm  = Permutations(n).random_element()\n",
    "        H.permute_columns(perm)\n",
    "        H11 = H[0:n-k-l, 0:n-k-l]\n",
    "        while(not(H11.is_invertible())):\n",
    "            perm = Permutations(n).random_element()\n",
    "            H.permute_columns(perm)\n",
    "            H11 = H[0:n-k-l, 0:n-k-l]\n",
    "\n",
    "        #Ainsi a ce stade on va traviller non pas sur H, mais plutot sur H * Id.permute_columns(perm), disons H *pi\n",
    "        # Donc si on a e tel que H * pi * e = s\n",
    "        # Alors la solution qu'on cherche est pi * e et non e\n",
    "        # Mais de toute facon on va encore transformer H\n",
    "\n",
    "        # On va multiplier H * pi à gauche par S et résoudre le problème sur S * H * pi\n",
    "        # S doit etre ainsi :\n",
    "        # H11-1 | 0\n",
    "        # H12^t | -H12^t H11 H21^t(H21H21^t)-1  notés A et B dans le code\n",
    "        # Le H11-1 et 0 est lié au fait qu'on veuille l'identité sur n-k-l\n",
    "        # Les deux autres valeurs d'en dessous sont liées au fait qu'on veuille avoir zéro en dessous de l'identité\n",
    "        # Mais remarquons qu'on avait qu'une seule equation avec deux inconnues, donc peut etre qu'il y a d'autres choix plus judicieux ?\n",
    "\n",
    "        H21 = H[n-k-l:n-k,0:n-k-l]\n",
    "        H12 = H[0:n-k-l,n-k-l:n]\n",
    "        H22 = H[n-k-l:n-k,n-k-l:n]\n",
    "        H11_invert = ~H11\n",
    "        B = identity_matrix(F3,l)\n",
    "        A = -H21*H11_invert\n",
    "\n",
    "\n",
    "        #A.augment(B) # partie du bas\n",
    "        #(-H11_invert).augment(matrix(F3, nrows = n-k-l, ncols = k+l)) # partie du haut\n",
    "\n",
    "\n",
    "        top_part = (H11_invert).augment(matrix(F3, nrows = n-k-l, ncols = l))\n",
    "        bottom_part = A.augment(B)\n",
    "        S = top_part.stack(bottom_part)\n",
    "        #S = ((-H11_invert).augment(matrix(F3, nrows = n-k-l, ncols = k+l))).stack(H11_invert.augment(A))\n",
    "\n",
    "        H = S*H\n",
    "\n",
    "\n",
    "        # Maintenant on peut résoudre \n",
    "        # H_new e = s_new\n",
    "        # <=> S H pi e = s_new\n",
    "        # <=> H pi e = S-1 s_new\n",
    "        # Ainsi etant donné s et notre problème, on veut S-1 s_new = s\n",
    "        # Donc s_new = S s\n",
    "        # On a donc tous les elements pour résoudre notre probleme\n",
    "\n",
    "        s = S * s\n",
    "\n",
    "        repeat = not(rank(H22) == l)\n",
    "\n",
    "    return(H, s, perm, S)"
   ]
  },
  {
   "cell_type": "code",
   "execution_count": 4,
   "id": "resident-surgery",
   "metadata": {},
   "outputs": [],
   "source": [
    "H = random_matrix(F3, nrows = n-k, ncols = n)\n",
    "s = random_vector(F3, n-k)\n",
    "\n",
    "H_original = copy(H)\n",
    "s_original = copy(s)\n",
    "\n",
    "(H,s,pi,S) = build_H(H, s)"
   ]
  },
  {
   "cell_type": "markdown",
   "id": "declared-canadian",
   "metadata": {},
   "source": [
    "### Verification"
   ]
  },
  {
   "cell_type": "code",
   "execution_count": 5,
   "id": "impaired-lightning",
   "metadata": {},
   "outputs": [
    {
     "name": "stdout",
     "output_type": "stream",
     "text": [
      "True\n",
      "True\n",
      "True\n"
     ]
    }
   ],
   "source": [
    "H11 =  H[0:n-k-l, 0:n-k-l]\n",
    "print(H11 == identity_matrix(F3,n-k-l))\n",
    "\n",
    "H21 = H[n-k-l:n-k,0:n-k-l]\n",
    "print(H21 == matrix(F3, ncols = n-k-l, nrows = l))\n",
    "\n",
    "H22 = H[n-k-l:n-k,n-k-l:n]\n",
    "print(rank(H22) == l)"
   ]
  },
  {
   "cell_type": "markdown",
   "id": "helpful-pierce",
   "metadata": {},
   "source": [
    "Si on n'a rien oublié, on peut désormais se concentrer sur le sous problème et appliquer notre 4/3 liste algorithme avec H22\n",
    "On avait déjà instancié cet algorithme avec une l,k+l matrice, donc on a juste à copier coller le code et lancer l'algo \n",
    "\n",
    "# A executer"
   ]
  },
  {
   "cell_type": "code",
   "execution_count": 6,
   "id": "physical-equipment",
   "metadata": {},
   "outputs": [],
   "source": [
    "# The algorithm is deterministic, even thought we are supposed to pick in the lists in a random way, the fact is that it has been \n",
    "# made deterministic\n",
    "def four_tree_list_tree(sub_s, H22, verbose = False):\n",
    "\n",
    "    cardinal_list_6 = 2**6\n",
    "    cardinal_list_7 = 108\n",
    "\n",
    "    target_11 = 4\n",
    "    target_12 = 8\n",
    "\n",
    "    len_number_solutions = []\n",
    "\n",
    "    Lists_level_2 = []\n",
    "    Lists_level_3 = []\n",
    "    index_H = 0\n",
    "\n",
    "\n",
    "    ####################################\n",
    "    ############# LEVEL 1 ##############\n",
    "    ####################################\n",
    "    if (verbose):\n",
    "        print(\"\\n\\n LEVELLL 1\\n\\n\")\n",
    "        print(\"Expected length 53.3 for three first ones otherwise / 92 \")\n",
    "    for i in range(0,4**3,4):\n",
    "    # Build 4 lists and do a 4-dissection\n",
    "    # The H[ugly indexes] represent the columns of H upon which we should do linear combinations for each list\n",
    "        index_H_tmp = index_H\n",
    "        if (i < 4*3): # Alors on est dans les 6667:\n",
    "            L1 = build_list_matrix(H22[:,index_H : index_H+6], i, sub_s,cardinal_list_6)\n",
    "            L2 = build_list_matrix(H22[:,index_H+6 : index_H+12], i+1, sub_s,cardinal_list_6)\n",
    "            L3 = build_list_matrix(H22[:,index_H+12 : index_H+18], i+3, sub_s,cardinal_list_6)\n",
    "            L4 = build_list_matrix(H22[:,index_H+18 : index_H+18+7], i+4, sub_s,cardinal_list_7)\n",
    "            index_H = index_H + 18+7\n",
    "        else:\n",
    "            L1 = build_list_matrix(H22[:,index_H : index_H+6], i, sub_s,cardinal_list_6)\n",
    "            L2 = build_list_matrix(H22[:,index_H+6 : index_H+12], i+1, sub_s,cardinal_list_6)\n",
    "            L3 = build_list_matrix(H22[:,index_H+12 : index_H+12+7], i+3, sub_s,cardinal_list_7)\n",
    "            L4 = build_list_matrix(H22[:,index_H+12+7 : index_H+12+14], i+4, sub_s,cardinal_list_7)\n",
    "            index_H = index_H + 12+14\n",
    "\n",
    "\n",
    "        L1234 = four_dissection_targets_matrix(L1,L2,L3,L4,l, 0,target_11,target_12, False, verbose)\n",
    "\n",
    "        check_syndrome = (i==0)\n",
    "        #oracle_test_four_list_tree(H[:,index_H_tmp:index_H],L1234,s, 0,target_11+target_12, check_syndrome)\n",
    "\n",
    "        Lists_level_2.append(L1234)\n",
    "        if verbose:\n",
    "            print(\"len list \" + str(len(L1234)))\n",
    "\n",
    "    # Just for debug, to remove\n",
    "    assert(len(Lists_level_2) == 4**2)\n",
    "\n",
    "    ####################################\n",
    "    ############# LEVEL 2 ##############\n",
    "    ####################################\n",
    "    if verbose:\n",
    "        print(\"\\n\\n LEVELLL 2\\n\\n\")\n",
    "        print(\"Expected length 25.6 for first one or 122.9\")\n",
    "\n",
    "    # Building the lists and doing 4-dissection\n",
    "    for i in range(0,4**2,4):\n",
    "        # Build 4 lists and do a 4-dissection\n",
    "        L1 = Lists_level_2[i]\n",
    "        L2 = Lists_level_2[i+1]\n",
    "        L3 = Lists_level_2[i+2]\n",
    "        L4 = Lists_level_2[i+3]\n",
    "\n",
    "        L1234 = four_dissection_targets_matrix(L1,L2,L3,L4,l,target_12+target_11, target_11,target_12, False, verbose)\n",
    "\n",
    "        #check_syndrome = (i==0)\n",
    "        #oracle_test_four_list_tree(Htmp,L1234,s, 0,(target_11+target_12)*2, check_syndrome)\n",
    "\n",
    "        if verbose:\n",
    "            print(\"len list \" + str(len(L1234)))\n",
    "\n",
    "        Lists_level_3.append(L1234)\n",
    "\n",
    "    # Just for debug, to remove  \n",
    "    assert(len(Lists_level_3) == 4)\n",
    "\n",
    "    ####################################\n",
    "    ############# LEVEL 2 ##############\n",
    "    ####################################\n",
    "    if verbose:\n",
    "        print(\"\\n\\n LEVELLL 3\\n\\n\")\n",
    "        print(\"Expected length 804 \")\n",
    "\n",
    "    L1 = Lists_level_3[0]\n",
    "    L2 = Lists_level_3[1]\n",
    "    L3 = Lists_level_3[2]\n",
    "    L4 = Lists_level_3[3]\n",
    "\n",
    "    L = four_dissection_targets_matrix(L1,L2,L3,L4,l, (target_12+target_11)*2, target_11, l, True, verbose)\n",
    "    List_L = L[matrix(F3, nrows=l,ncols=1,immutable = True)]\n",
    "    if verbose:\n",
    "        print(\"Number of solutions \" + str(len(List_L)))\n",
    "        print(\"end\")\n",
    "        print(\"Theoretical expected number of solutions \" + str(RR(3**(2*l/11))))\n",
    "    return List_L\n",
    "\n",
    "\n"
   ]
  },
  {
   "cell_type": "code",
   "execution_count": 13,
   "id": "seventh-antique",
   "metadata": {},
   "outputs": [],
   "source": [
    "sub_s = matrix(s[n-k-l:n-k], ncols = 1) \n",
    "List_L = four_tree_list_tree(sub_s, H22)"
   ]
  },
  {
   "cell_type": "markdown",
   "id": "helpful-enough",
   "metadata": {},
   "source": [
    "Le résultat est dans la variable \"List_L\"\n",
    "Maintenant on a pleins de vecteurs (e_i)i tels que H22 * e_i =s[n-k-l:n-k] (ne pas oublier que c'est le syndrome transformé) \n",
    "\n",
    "Ainsi tout vecteur e = (s[O:n-k-l] - H12e_i, e_i) va satisfaire He = s\n",
    "\n",
    "Il nous reste seulement a espérer qu'on ait le bon poids de Hamming. \n",
    "Avant de se précipiter, vérifions que e = (s[O:n-k-l] - H12e_i, e_i) fonctionne bien\n"
   ]
  },
  {
   "cell_type": "code",
   "execution_count": 14,
   "id": "loose-maintenance",
   "metadata": {},
   "outputs": [
    {
     "name": "stdout",
     "output_type": "stream",
     "text": [
      "Fin verif. Si pas d'erreurs affichées, alors tout va bien :D\n"
     ]
    }
   ],
   "source": [
    "H11 =  H[0:n-k-l, 0:n-k-l]\n",
    "H21 = H[n-k-l:n-k,0:n-k-l]\n",
    "H22 = H[n-k-l:n-k,n-k-l:n]\n",
    "H12 = H[0:n-k-l,n-k-l:n]\n",
    "\n",
    "e_bottom = List_L[0]\n",
    "e_top = matrix(s[0:n-k-l], ncols = 1) - H12*e_bottom\n",
    "\n",
    "e = e_top.stack(e_bottom)\n",
    "\n",
    "\n",
    "\n",
    "for e_bottom in List_L:\n",
    "    e_top = matrix(s[0:n-k-l], ncols = 1) - H12*e_bottom\n",
    "    e = e_top.stack(e_bottom)\n",
    "    if (H*e != matrix(s, ncols = 1)):\n",
    "        print(\"Erreur !!!!!!!!! \")\n",
    "print(\"Fin verif. Si pas d'erreurs affichées, alors tout va bien :D\")"
   ]
  },
  {
   "cell_type": "markdown",
   "id": "studied-swing",
   "metadata": {},
   "source": [
    "Maintenant qu'on a fait ces verifications, on va regarder le poids de hamming\n",
    "Pour rappel : on a en bas un poids de hamming de k+l\n",
    "On a donc besoin d'un poids de hamming de W*n - k - l en haut"
   ]
  },
  {
   "cell_type": "code",
   "execution_count": 15,
   "id": "refined-extraction",
   "metadata": {},
   "outputs": [
    {
     "name": "stdout",
     "output_type": "stream",
     "text": [
      "Hamming weight to reach : 118.084960000000\n",
      "max hamming weight that we found : 119\n"
     ]
    }
   ],
   "source": [
    "w =0.948366\n",
    "print(\"Hamming weight to reach : \" + str(n*w - k - l))\n",
    "hamming_weights = [ (s[0:n-k-l]- vector(H12*e_bottom)).hamming_weight() for e_bottom in List_L ]\n",
    "print(\"max hamming weight that we found : \" + str(max(hamming_weights)))"
   ]
  },
  {
   "cell_type": "markdown",
   "id": "precise-footwear",
   "metadata": {},
   "source": [
    "Maintenant, on peut tout mettre bout à bout, et répéter le processus jusqu'à avoir une solution de poids désiré"
   ]
  },
  {
   "cell_type": "markdown",
   "id": "synthetic-insulin",
   "metadata": {},
   "source": [
    "# Algo"
   ]
  },
  {
   "cell_type": "code",
   "execution_count": 21,
   "id": "abroad-tamil",
   "metadata": {},
   "outputs": [
    {
     "name": "stdout",
     "output_type": "stream",
     "text": [
      "target weight 118\n",
      "\n",
      "one iteration !\n",
      "max hamming weight found 113\n",
      "one iteration !\n",
      "max hamming weight found 116\n",
      "one iteration !\n",
      "max hamming weight found 114\n",
      "one iteration !\n",
      "max hamming weight found 117\n",
      "one iteration !\n",
      "max hamming weight found 117\n",
      "one iteration !\n",
      "max hamming weight found 112\n",
      "one iteration !\n",
      "max hamming weight found 116\n",
      "one iteration !\n",
      "max hamming weight found 118\n",
      "uraaaa\n"
     ]
    }
   ],
   "source": [
    "F3 = Zmod(3)\n",
    "\n",
    "n = 560\n",
    "k = 379\n",
    "l = 34\n",
    "\n",
    "H = random_matrix(F3, nrows = n-k, ncols = n)\n",
    "s = random_vector(F3, n-k)\n",
    "H.set_immutable()\n",
    "s.set_immutable()\n",
    "\n",
    "\n",
    "perm = Permutations(n).identity()\n",
    "weight = int(n*W)\n",
    "\n",
    "target_weight =  weight-k-l\n",
    "print(\"target weight \" + str(target_weight))\n",
    "print(\"\")\n",
    "condition = True\n",
    "while(condition):\n",
    "    print(\"one iteration !\")\n",
    "    (Hp,sp,perm,S) = build_H(H, s)\n",
    "\n",
    "    H22 = Hp[n-k-l:n-k,n-k-l:n]\n",
    "    H12 = Hp[0:n-k-l,n-k-l:n]\n",
    "    sub_s = matrix(sp[n-k-l:n-k], ncols = 1) \n",
    "    \n",
    "    List_L = four_tree_list_tree(sub_s, H22, verbose = False)\n",
    "            \n",
    "    hamming_weights = [ (sp[0:n-k-l]- vector(H12*e_bottom)).hamming_weight() for e_bottom in List_L ]\n",
    "    print(\"max hamming weight found \" +str(max(hamming_weights)))\n",
    "    if(target_weight in hamming_weights):\n",
    "        condition = False\n",
    "        print(\"uraaaa\")\n",
    "        \n",
    "\n",
    "# Ne pas oublier de permuter les coordonnées "
   ]
  },
  {
   "cell_type": "markdown",
   "id": "meaning-baking",
   "metadata": {},
   "source": [
    "On verifie la correctitude"
   ]
  },
  {
   "cell_type": "code",
   "execution_count": 22,
   "id": "exciting-while",
   "metadata": {},
   "outputs": [
    {
     "name": "stdout",
     "output_type": "stream",
     "text": [
      "h\n",
      "True\n"
     ]
    }
   ],
   "source": [
    "PI = identity_matrix(F3,n)\n",
    "PI.permute_columns(perm)\n",
    "\n",
    "for e_bottom in List_L:\n",
    "    e_top = matrix(sp[0:n-k-l], ncols = 1) - H12*e_bottom\n",
    "    e = e_top.stack(e_bottom)\n",
    "    if (Hp*e != matrix(sp, ncols = 1)):\n",
    "        print(\"Erreur !!!!!!!!! \")\n",
    "        print(vector(Hp*e))\n",
    "        print(\"\")\n",
    "        print(vector(H*PI*e))\n",
    "        break\n",
    "print(\"h\")\n",
    "for e_bottom in List_L:        \n",
    "    e_top = matrix(sp[0:n-k-l], ncols = 1) - H12*e_bottom\n",
    "    e = e_top.stack(e_bottom)\n",
    "    if (H*PI*e != matrix(s, ncols = 1)):\n",
    "        print(\"Erreur !!!!!!!!! \")\n",
    "        print(vector(s))\n",
    "        print(\"\")\n",
    "        print(vector(H*PI*e))\n",
    "        print(\"\")\n",
    "        print(vector(H*e))\n",
    "        break\n",
    " \n",
    "\n",
    "\n",
    "print(Hp == S* H* PI)\n",
    "    "
   ]
  },
  {
   "cell_type": "markdown",
   "id": "executed-discount",
   "metadata": {},
   "source": [
    "On renvoie la solution"
   ]
  },
  {
   "cell_type": "code",
   "execution_count": null,
   "id": "lightweight-specification",
   "metadata": {},
   "outputs": [],
   "source": [
    "118 in hamming_weights"
   ]
  },
  {
   "cell_type": "code",
   "execution_count": null,
   "id": "covered-burning",
   "metadata": {},
   "outputs": [],
   "source": [
    "for e_bottom in List_L:\n",
    "    e_top = matrix(sp[0:n-k-l], ncols = 1) - H12*e_bottom\n",
    "    e = vector(e_top.stack(e_bottom))\n",
    "    if e.hamming_weight() == weight:\n",
    "            sol = PI*e\n",
    "            break\n",
    "print(\"solution : \" + str(sol))\n",
    "print(H*sol == s)\n"
   ]
  },
  {
   "cell_type": "code",
   "execution_count": null,
   "id": "moral-stomach",
   "metadata": {},
   "outputs": [],
   "source": []
  },
  {
   "cell_type": "markdown",
   "id": "assisted-blocking",
   "metadata": {},
   "source": [
    "Remarque :: \n",
    "Il ne faut peut etre pas prendre les choses trop a coeur cad que si on fait 1000000000 expériences de ce genre, et qu'on a une moyenne de disons 2 itérations avant de trouver une solution, et bien ce n'est pas contradictoire car \n",
    "* La 4-3 list tree nous renvoie legerement moins de solutions de prévu, a cause des contraintes de peuplement qui nous ont forcés a legerement changer cela \n",
    "* Pour calculer le nombre de solutions dont on a besoin, on a utilisé des formules **asymptotiques** qui ne sont donc pas non plus ultra précises. Et en plus on a approximé ce nombre de solutions asymptotiques : ça fait beaucoup d'approximations ... Il s'avere donc etre une idée pas completement absurde de faire l'étude\n",
    "\n",
    "### Nombre de solutions en vrai versus formules asymptotiques\n",
    "\n",
    "##### Asymptotique\n",
    "\n",
    "On va devoir copier coller des fonctions du notebook \"choix de l\"\n"
   ]
  },
  {
   "cell_type": "code",
   "execution_count": null,
   "id": "unauthorized-fusion",
   "metadata": {},
   "outputs": [],
   "source": [
    "def hq(x):\n",
    "    if x == 0:\n",
    "        return -(1-x) * math.log(1-x,3)\n",
    "    elif x == 1:\n",
    "        return x * math.log(x/2, 3)\n",
    "    elif x > 1 or x < 0:\n",
    "        raise Exception(\"Entropy : argument provided is out of [0,1]\")\n",
    "    return -(1-x)*math.log(1-x,3)-x*math.log(x/2,3)\n",
    "\n",
    "# returns e such that if l = Re * n and we have rate R and need to find relative weight of w, then we need to return \n",
    "# 3**(ne) solutions on the (k+l) decodign problem\n",
    "def expo_alpha(Re,R, w):\n",
    "    C = (w-R-Re)/(1-R-Re)\n",
    "    haut = (1-R-Re)*hq(C) + Re\n",
    "    bas = min(1-R, hq(w))\n",
    "    return(haut-bas)\n",
    "\n",
    "\n",
    "R = 0.676\n",
    "w =0.948366\n",
    "Re = 0.060835\n",
    "n = 560\n",
    "k = 379\n",
    "l = 34\n",
    "\n",
    "nb_sol_asymptotiques = 3**(-expo_alpha(Re,R, w)*n)\n",
    "\n",
    "vrai_nombre_solutions = RR(3**(n-k-l)/(math.comb(n-k-l, int(w * n) - l - k) * 2**(int(w * n) - l - k)))\n",
    "\n",
    "print(vrai_nombre_solutions)\n",
    "print(nb_sol_asymptotiques)"
   ]
  },
  {
   "cell_type": "code",
   "execution_count": null,
   "id": "technological-tooth",
   "metadata": {},
   "outputs": [],
   "source": [
    "R = 0.676\n",
    "W =0.948366\n",
    "Re = 0.060835\n",
    "\n",
    "\n",
    "n = 560\n",
    "k = int(R*n)\n",
    "w = int(W*n)\n",
    "\n",
    "C = (W-R-Re)/(1-R-Re)\n",
    "real =  RR((3**(n-k-l)) /(binomial(n-k-l,w-k-l)*2**(w-k-l)   ) )\n",
    "approx = 3**(n*-expo_alpha(Re,R, W))\n",
    "print(real)\n",
    "print(approx)\n",
    "\n"
   ]
  },
  {
   "cell_type": "markdown",
   "id": "blessed-penalty",
   "metadata": {},
   "source": [
    "On a tout de meme un facteur 10 entre les deux valeurs .. Et selon l'étude asymptotique cela n'a pas l'air de s'arranger (facteur 27 entre deux valeurs pour ce qu'on veut)"
   ]
  },
  {
   "cell_type": "markdown",
   "id": "dutch-front",
   "metadata": {},
   "source": [
    "conclusion de l'experience : \n",
    "pi : random permutation\n",
    "A.permute_columns(pi) est telle que \n",
    "A * Id.permute_columns(pi) = A.permute_columns(pi)"
   ]
  }
 ],
 "metadata": {
  "kernelspec": {
   "display_name": "SageMath 9.2",
   "language": "sage",
   "name": "sagemath"
  },
  "language_info": {
   "codemirror_mode": {
    "name": "ipython",
    "version": 3
   },
   "file_extension": ".py",
   "mimetype": "text/x-python",
   "name": "python",
   "nbconvert_exporter": "python",
   "pygments_lexer": "ipython3",
   "version": "3.8.8"
  }
 },
 "nbformat": 4,
 "nbformat_minor": 5
}
